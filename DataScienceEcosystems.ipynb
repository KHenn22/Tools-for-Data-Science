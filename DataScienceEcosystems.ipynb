{
 "cells": [
  {
   "cell_type": "markdown",
   "id": "7829817e-8384-479c-8218-67e3f85fa6b2",
   "metadata": {},
   "source": [
    "# Data Science Tools and Ecosystem"
   ]
  },
  {
   "cell_type": "markdown",
   "id": "577e9e35-a84a-48e4-860c-f3d2dbddee58",
   "metadata": {},
   "source": [
    "## Author\n",
    "Kevin Hennelly"
   ]
  },
  {
   "cell_type": "markdown",
   "id": "2522c1b5-280f-4943-8214-2ac5ccfc401e",
   "metadata": {},
   "source": [
    "## In this notebook, Data Science Tools and Ecosystem are summarized."
   ]
  },
  {
   "cell_type": "markdown",
   "id": "3935f42b-07b3-4c35-bb3b-83db8a94406c",
   "metadata": {},
   "source": [
    "## **Objectives:**\n",
    "* Popular Languages that Data Scientists use\n",
    "* Commonly used libraries by Data Scientists \n",
    "* Data Science Tools"
   ]
  },
  {
   "cell_type": "markdown",
   "id": "2ec368ae-ada2-4d76-a220-d2b615d2dd4b",
   "metadata": {},
   "source": [
    "### Some of the popular languages that Data Scientists use are:"
   ]
  },
  {
   "cell_type": "markdown",
   "id": "781cc115-8272-45d8-b9df-9e4ad93854b0",
   "metadata": {},
   "source": [
    "1. Python\n",
    "2. Java\n",
    "3. Julia"
   ]
  },
  {
   "cell_type": "markdown",
   "id": "de9f6bcf-206e-4ec1-9e87-101b3dce18e9",
   "metadata": {},
   "source": [
    "### Some of the commonly used libraries used by Data Scientists include:"
   ]
  },
  {
   "cell_type": "markdown",
   "id": "0552823b-ff99-49bd-aab9-8fd12c81a19e",
   "metadata": {},
   "source": [
    "1. Ggplot\n",
    "2. Pandas\n",
    "3. TensorFlow"
   ]
  },
  {
   "cell_type": "markdown",
   "id": "e682f3c6-8d1e-433f-b9d9-116d26449284",
   "metadata": {},
   "source": [
    "| Data Science Tools |\n",
    "| ---- |\n",
    "| Apache Spark |\n",
    "| Jupyter Notebook |\n",
    "|KNIME |"
   ]
  },
  {
   "cell_type": "markdown",
   "id": "8d2f0cac-c277-4268-aac0-81b3ed385393",
   "metadata": {},
   "source": [
    "### Below are a few examples of evaluating arithmetic expressions in Python"
   ]
  },
  {
   "cell_type": "code",
   "execution_count": 2,
   "id": "a9ec7783-1bcf-4545-8920-9f5855ff5001",
   "metadata": {
    "tags": []
   },
   "outputs": [
    {
     "data": {
      "text/plain": [
       "17"
      ]
     },
     "execution_count": 2,
     "metadata": {},
     "output_type": "execute_result"
    }
   ],
   "source": [
    "#  This a simple arithmetic expression to multiply then add integers \n",
    "(3*4) + 5"
   ]
  },
  {
   "cell_type": "code",
   "execution_count": 6,
   "id": "ba630985-ee61-4c61-933b-54741e7692ef",
   "metadata": {
    "tags": []
   },
   "outputs": [
    {
     "name": "stdout",
     "output_type": "stream",
     "text": [
      "200 minutes equals 3.3333333333333335 hours\n"
     ]
    }
   ],
   "source": [
    "# This will convert 200 minutes to hours by dividing by 60\n",
    "minutes = 200\n",
    "hours = minutes/60\n",
    "print(\"200 minutes equals\", hours, \"hours\")\n"
   ]
  },
  {
   "cell_type": "code",
   "execution_count": null,
   "id": "e5948bfc-e046-40ec-91c5-be18001c722a",
   "metadata": {},
   "outputs": [],
   "source": []
  }
 ],
 "metadata": {
  "kernelspec": {
   "display_name": "Python",
   "language": "python",
   "name": "conda-env-python-py"
  },
  "language_info": {
   "codemirror_mode": {
    "name": "ipython",
    "version": 3
   },
   "file_extension": ".py",
   "mimetype": "text/x-python",
   "name": "python",
   "nbconvert_exporter": "python",
   "pygments_lexer": "ipython3",
   "version": "3.7.12"
  }
 },
 "nbformat": 4,
 "nbformat_minor": 5
}
